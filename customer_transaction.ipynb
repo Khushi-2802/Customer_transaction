{
 "cells": [
  {
   "cell_type": "code",
   "execution_count": 1,
   "id": "79682a9a",
   "metadata": {},
   "outputs": [],
   "source": [
    "\n",
    "import pandas as pd\n",
    "file_path = r'C:\\Users\\PRAVEEN CHANDRA\\Desktop\\Credit_Banking_2.xlsx'\n",
    "Worksheet = pd.ExcelFile(file_path)\n",
    "\n",
    "# Get the list of sheet names in the Excel file\n",
    "Worksheetname = Worksheet.sheet_names\n",
    "\n",
    "# Access each table individually\n",
    "Credit_transaction = pd.read_excel(Worksheet, sheet_name=Worksheetname[0])\n",
    "Customer_info = pd.read_excel(Worksheet, sheet_name=Worksheetname[1])\n",
    "\n",
    "pd.set_option('display.max_rows', None)\n",
    "pd.set_option('display.max_columns', None)"
   ]
  },
  {
   "cell_type": "code",
   "execution_count": 2,
   "id": "651ea494",
   "metadata": {},
   "outputs": [],
   "source": [
    "#filling null or NaN values in credit card column with 99999 \n",
    "Credit_transaction['Credit_card'].fillna(99999, inplace=True)\n"
   ]
  },
  {
   "cell_type": "code",
   "execution_count": null,
   "id": "51b1d67d",
   "metadata": {},
   "outputs": [],
   "source": [
    "Credit_transaction.sort_values(by=['Credit_card','Time'],ascending=True,inplace=True)\n",
    "duplicate_transactions = Credit_transaction[Credit_transaction.duplicated(subset=['Credit_card', 'Transaction ID'], keep=False)]\n",
    "duplicate_transactions"
   ]
  },
  {
   "cell_type": "code",
   "execution_count": 25,
   "id": "ad2a65ee",
   "metadata": {},
   "outputs": [],
   "source": [
    "#age>18\n",
    "Customer_info.loc[Customer_info['Age']<18,'Age']=Customer_info.loc[Customer_info['Age']>=18,'Age'].mean()\n"
   ]
  },
  {
   "cell_type": "code",
   "execution_count": 27,
   "id": "f5a1af16",
   "metadata": {},
   "outputs": [],
   "source": [
    "Credit_transaction.rename(columns={'Date':'Purchase_date'},inplace=True)\n"
   ]
  },
  {
   "cell_type": "code",
   "execution_count": null,
   "id": "1710a04f",
   "metadata": {},
   "outputs": [],
   "source": [
    "#check return_date is after purchase_date or not\n",
    "Credit_transaction.loc[Credit_transaction['Purchase_date']>Credit_transaction['Return_date']]"
   ]
  },
  {
   "cell_type": "code",
   "execution_count": null,
   "id": "a48c9544",
   "metadata": {},
   "outputs": [],
   "source": [
    "Credit_transaction.loc[Credit_transaction['Purchase_date']>Credit_transaction['Return_date'],'Return_date']=Credit_transaction['Return_date'] + pd.DateOffset(years=1)\n"
   ]
  },
  {
   "cell_type": "code",
   "execution_count": 43,
   "id": "e6944deb",
   "metadata": {},
   "outputs": [],
   "source": [
    "Credit_transaction.loc[Credit_transaction['Coupon_ID'].isnull(),'Selling_price']=Credit_transaction['Price ']"
   ]
  },
  {
   "cell_type": "code",
   "execution_count": 42,
   "id": "d73bbe49",
   "metadata": {},
   "outputs": [],
   "source": [
    "condition = (Credit_transaction['Price '] == Credit_transaction['Selling_price']) & (~Credit_transaction['Coupon_ID'].isnull())\n",
    "Credit_transaction.loc[condition, 'Selling_price'] *= 0.95"
   ]
  },
  {
   "cell_type": "code",
   "execution_count": null,
   "id": "11555160",
   "metadata": {},
   "outputs": [],
   "source": [
    "Combined=pd.merge(Credit_transaction,Customer_info,left_on='Credit_card',right_on='C_ID')\n",
    "Combined"
   ]
  },
  {
   "cell_type": "code",
   "execution_count": null,
   "id": "ec2af4db",
   "metadata": {},
   "outputs": [],
   "source": [
    "age_bins = [18, 36, 51, 100]\n",
    "age_labels = ['Young', 'Mid age', 'Old']\n",
    "\n",
    "# Create a new column 'age_group' based on the age bins and labels\n",
    "Combined['age_group'] = pd.cut(Combined['Age'], bins=age_bins, labels=age_labels, right=False)\n",
    "Combined['age_group']=Combined['age_group'].astype(str)\n",
    "# Create a new column 'segment' combining age group and gender\n",
    "Combined['segment'] = Combined['age_group'] + ' ' + Combined['Gender']\n",
    "Combined"
   ]
  },
  {
   "cell_type": "code",
   "execution_count": null,
   "id": "74ae7008",
   "metadata": {},
   "outputs": [],
   "source": [
    "spend_segmentation=Combined.groupby('segment')['Selling_price'].sum()\n",
    "spend_segmentation"
   ]
  },
  {
   "cell_type": "code",
   "execution_count": null,
   "id": "0c60b638",
   "metadata": {},
   "outputs": [],
   "source": [
    "Swipe_segmentation=Combined.groupby('segment')['Credit_card'].value_counts()\n",
    "Swipe_segmentation"
   ]
  },
  {
   "cell_type": "code",
   "execution_count": null,
   "id": "9fba4fc6",
   "metadata": {},
   "outputs": [],
   "source": [
    "spend_by_product=Combined.groupby('P_CATEGORY')['Selling_price'].sum()\n",
    "spend_by_product"
   ]
  },
  {
   "cell_type": "code",
   "execution_count": null,
   "id": "59b1037c",
   "metadata": {},
   "outputs": [],
   "source": [
    "spend_by_state=Combined.groupby('State')['Selling_price'].sum()\n",
    "spend_by_state"
   ]
  },
  {
   "cell_type": "code",
   "execution_count": null,
   "id": "b82ad4ee",
   "metadata": {},
   "outputs": [],
   "source": [
    "spend_by_payment_method=Combined.groupby('Payment Method')['Selling_price'].sum()\n",
    "spend_by_payment_method"
   ]
  },
  {
   "cell_type": "code",
   "execution_count": null,
   "id": "16971c37",
   "metadata": {},
   "outputs": [],
   "source": [
    "highest_paying_5_spend_by_product=spend_by_product.nlargest(5)\n",
    "highest_paying_5_spend_by_product\n"
   ]
  },
  {
   "cell_type": "code",
   "execution_count": null,
   "id": "046826fd",
   "metadata": {},
   "outputs": [],
   "source": [
    "highest_paying_5_spend_by_state=spend_by_state.nlargest(5)\n",
    "highest_paying_5_spend_by_state\n"
   ]
  },
  {
   "cell_type": "code",
   "execution_count": null,
   "id": "1e265ce1",
   "metadata": {},
   "outputs": [],
   "source": [
    "highest_paying_5_spend_by_payment_method=spend_by_payment_method.nlargest(5)\n",
    "highest_paying_5_spend_by_payment_method"
   ]
  },
  {
   "cell_type": "code",
   "execution_count": null,
   "id": "a12ba34a",
   "metadata": {},
   "outputs": [],
   "source": [
    "Combined['Discount']=Combined['Price ']-Combined['Selling_price']\n",
    "payment_met_highest_discount=Combined.groupby('Payment Method')['Discount'].mean()\n",
    "payment_met_highest_discount.sort_values(ascending=False)"
   ]
  },
  {
   "cell_type": "code",
   "execution_count": null,
   "id": "b56ed00b",
   "metadata": {},
   "outputs": [],
   "source": [
    "returned_customers=Combined[Combined['Return_ind']==1]"
   ]
  },
  {
   "cell_type": "code",
   "execution_count": null,
   "id": "f60e8531",
   "metadata": {},
   "outputs": [],
   "source": [
    "age_category=returned_customers.groupby('age_group').size()\n",
    "age_category"
   ]
  },
  {
   "cell_type": "code",
   "execution_count": null,
   "id": "c3953050",
   "metadata": {},
   "outputs": [],
   "source": [
    "returned_customers.groupby('CONDTION').size()"
   ]
  },
  {
   "cell_type": "code",
   "execution_count": null,
   "id": "8a6d3863",
   "metadata": {},
   "outputs": [],
   "source": [
    "returned_customers.groupby('State').size()"
   ]
  },
  {
   "cell_type": "code",
   "execution_count": null,
   "id": "36b282d0",
   "metadata": {},
   "outputs": [],
   "source": [
    "returned_customers.groupby('Discount').size()"
   ]
  },
  {
   "cell_type": "code",
   "execution_count": null,
   "id": "8a0a0cef",
   "metadata": {},
   "outputs": [],
   "source": [
    "discount_bins=[0,50,100,150,200,250]\n",
    "discount_labels=['0-50','51-100','101-150','151-200','201-250']\n",
    "returned_customers['discount_group'] = pd.cut(returned_customers['Discount'], bins=discount_bins, labels=discount_labels, right=False)\n",
    "\n",
    "returned_customers.groupby('discount_group').size()"
   ]
  },
  {
   "cell_type": "code",
   "execution_count": 92,
   "id": "dfcde142",
   "metadata": {},
   "outputs": [],
   "source": [
    "non_returning_customers=Combined[Combined['Return_ind']==0]\n"
   ]
  },
  {
   "cell_type": "code",
   "execution_count": null,
   "id": "20ba1869",
   "metadata": {},
   "outputs": [],
   "source": [
    "discount_bins=[0,50,100,150,200,250]\n",
    "discount_labels=['0-50','51-100','101-150','151-200','201-250']\n",
    "non_returning_customers['discount_group'] = pd.cut(non_returning_customers['Discount'], bins=discount_bins, labels=discount_labels, right=False)\n",
    "\n",
    "non_returning_customers.groupby('discount_group').size()\n"
   ]
  }
 ],
 "metadata": {
  "kernelspec": {
   "display_name": "Python 3 (ipykernel)",
   "language": "python",
   "name": "python3"
  },
  "language_info": {
   "codemirror_mode": {
    "name": "ipython",
    "version": 3
   },
   "file_extension": ".py",
   "mimetype": "text/x-python",
   "name": "python",
   "nbconvert_exporter": "python",
   "pygments_lexer": "ipython3",
   "version": "3.10.9"
  }
 },
 "nbformat": 4,
 "nbformat_minor": 5
}
